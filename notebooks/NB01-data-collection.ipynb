{
 "cells": [
  {
   "cell_type": "markdown",
   "metadata": {},
   "source": [
    "# 1. Data Collection\n"
   ]
  },
  {
   "cell_type": "markdown",
   "metadata": {},
   "source": [
    "## 🗂️ Data Collection Methodology\n",
    "\n",
    "The dataset was collected using **The Movie Database (TMDb)** API, which provides access to detailed movie metadata, including titles, genres, release years, ratings, and vote counts.\n",
    "\n",
    "### ✅ Step-by-Step Collection Process\n",
    "\n",
    "1. **API Access Setup**\n",
    "\n",
    "   - A TMDb account was created at [https://www.themoviedb.org/](https://www.themoviedb.org/) to obtain a free API key.\n",
    "   - The key was stored securely in a `.env` file (`TMDB_API_KEY=your_api_key`) and excluded from version control via `.gitignore`.\n",
    "\n",
    "2. **Scripted Collection**\n",
    "\n",
    "   - The notebook `NB01-data-collection.ipynb` is used to query TMDb’s `/discover/movie` endpoint.\n",
    "   - For each year from **2020 to 2024**, the script paginated through results to collect:\n",
    "     - `movie_id`, `title`, `release_date`, `vote_average`, `vote_count`, and genre information.\n",
    "\n",
    "3. **Data Storage**\n",
    "   - Raw responses were stored in structured JSON format under `data/raw/`.\n",
    "   - Cleaned and merged data was inserted into a local **SQLite** database (`data/database.db`) for reproducible analysis.\n"
   ]
  },
  {
   "cell_type": "markdown",
   "metadata": {},
   "source": [
    "## 🎯 Why These Data Were Necessary\n",
    "\n",
    "The selected TMDb data enabled meaningful analysis of movie trends from **2020 to 2024**:\n",
    "\n",
    "- **`title`, `release_date`, `year`** — To group and analyze movies by year.\n",
    "- **`vote_average`, `vote_count`** — To assess audience ratings and identify hidden gems (high-rated, low-vote films).\n",
    "- **`genres`** — To explore trends and performance by genre.\n",
    "- **`movie_id`** — To ensure data uniqueness and link detailed metadata across API responses.\n",
    "\n",
    "These fields were essential for answering key questions about movie popularity, quality, and genre-specific trends.\n"
   ]
  },
  {
   "cell_type": "code",
   "execution_count": 33,
   "metadata": {},
   "outputs": [],
   "source": [
    "#Imports\n",
    "import requests\n",
    "import time\n",
    "import pandas as pd\n",
    "import os\n",
    "from dotenv import load_dotenv\n"
   ]
  },
  {
   "cell_type": "markdown",
   "metadata": {},
   "source": [
    "Helper Funcations and Required variabls\n"
   ]
  },
  {
   "cell_type": "code",
   "execution_count": 34,
   "metadata": {},
   "outputs": [],
   "source": [
    "#Required Variables and helper functions\n",
    "\n",
    "load_dotenv()\n",
    "API_KEY = os.getenv(\"TMDB_API_KEY\")\n",
    "\n",
    "BASE_URL = \"https://api.themoviedb.org/3\"\n",
    "RAW_DIR = \"../data/raw/\"\n",
    "\n",
    "def get_genre_mapping():\n",
    "    url = f\"{BASE_URL}/genre/movie/list\"\n",
    "    response = requests.get(url, params={\"api_key\": API_KEY})\n",
    "    response.raise_for_status()\n",
    "    return {g['id']: g['name'] for g in response.json()['genres']}\n",
    "\n",
    "# def get_top_movies_for_year(year):\n",
    "#     all_movies = []\n",
    "#     for page in range(1, 6):  # 100 movies: 5 pages * 20 movies\n",
    "#         url = f\"{BASE_URL}/discover/movie\"\n",
    "#         params = {\n",
    "#             \"api_key\": API_KEY,\n",
    "#             \"sort_by\": \"popularity.desc\",\n",
    "#             \"primary_release_year\": year,\n",
    "#             \"page\": page\n",
    "#         }\n",
    "#         response = requests.get(url, params=params)\n",
    "#         response.raise_for_status()\n",
    "#         all_movies.extend(response.json()[\"results\"])\n",
    "#         time.sleep(0.3)  # Avoid hitting rate limits\n",
    "#     return all_movies\n",
    "def get_most_rated_movies_for_year(year):\n",
    "    all_movies = []\n",
    "    for page in range(1, 6):  # 5 pages * 20 movies = 100 candidates\n",
    "        url = f\"{BASE_URL}/discover/movie\"\n",
    "        params = {\n",
    "            \"api_key\": API_KEY,\n",
    "            \"sort_by\": \"vote_count.desc\",  # Sort by number of ratings\n",
    "            \"primary_release_year\": year,\n",
    "            \"page\": page\n",
    "        }\n",
    "        response = requests.get(url, params=params)\n",
    "        response.raise_for_status()\n",
    "        all_movies.extend(response.json()[\"results\"])\n",
    "        time.sleep(0.3)\n",
    "    \n",
    "    # Just keep the top 75 based on vote_count\n",
    "    all_movies = sorted(all_movies, key=lambda x: x[\"vote_count\"], reverse=True)[:75]\n",
    "    return all_movies\n",
    "\n",
    "\n",
    "# Get genre mapping\n",
    "genre_map = get_genre_mapping()\n"
   ]
  },
  {
   "cell_type": "markdown",
   "metadata": {},
   "source": [
    "Calling the TMDb API for data.\n"
   ]
  },
  {
   "cell_type": "code",
   "execution_count": 35,
   "metadata": {},
   "outputs": [
    {
     "name": "stdout",
     "output_type": "stream",
     "text": [
      "Collecting 2020...\n",
      "Collecting 2021...\n",
      "Collecting 2022...\n",
      "Collecting 2023...\n",
      "Collecting 2024...\n",
      "collected 375 movie data\n",
      "✅ Data collection complete.\n"
     ]
    }
   ],
   "source": [
    "#Calling the api\n",
    "\n",
    "# Collect data for years 2020–2024\n",
    "movie_records = []\n",
    "for year in range(2020, 2025):\n",
    "    print(f\"Collecting {year}...\")\n",
    "    movies = get_most_rated_movies_for_year(year)\n",
    "    for movie in movies:\n",
    "        genre_names = [genre_map.get(gid, \"Unknown\") for gid in movie.get(\"genre_ids\", [])]\n",
    "        movie_records.append({\n",
    "            \"movie_id\": movie[\"id\"],\n",
    "            \"title\": movie[\"title\"],\n",
    "            \"year\": year,\n",
    "            \"popularity\": movie[\"popularity\"],\n",
    "            \"vote_average\": movie[\"vote_average\"],\n",
    "            \"vote_count\": movie[\"vote_count\"],\n",
    "            \"genre_ids\": movie[\"genre_ids\"],\n",
    "            \"genres\": genre_names\n",
    "        })\n",
    "\n",
    "# Convert to DataFrame\n",
    "df = pd.DataFrame(movie_records)\n",
    "df.to_json(f\"{RAW_DIR}/movies_2020_2024.json\", orient=\"records\", indent=2)\n",
    "print(f\"collected {len(df)} movie data\")\n",
    "print(\"✅ Data collection complete.\")\n"
   ]
  }
 ],
 "metadata": {
  "kernelspec": {
   "display_name": "Python 3",
   "language": "python",
   "name": "python3"
  },
  "language_info": {
   "codemirror_mode": {
    "name": "ipython",
    "version": 3
   },
   "file_extension": ".py",
   "mimetype": "text/x-python",
   "name": "python",
   "nbconvert_exporter": "python",
   "pygments_lexer": "ipython3",
   "version": "3.12.1"
  },
  "orig_nbformat": 4
 },
 "nbformat": 4,
 "nbformat_minor": 2
}
